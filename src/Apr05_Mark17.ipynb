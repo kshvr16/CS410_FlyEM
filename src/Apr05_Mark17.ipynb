{
 "cells": [
  {
   "cell_type": "code",
   "execution_count": 1,
   "id": "25974c2b",
   "metadata": {},
   "outputs": [
    {
     "name": "stderr",
     "output_type": "stream",
     "text": [
      "2023-04-27 18:06:16.169948: I tensorflow/core/platform/cpu_feature_guard.cc:182] This TensorFlow binary is optimized to use available CPU instructions in performance-critical operations.\n",
      "To enable the following instructions: AVX2 FMA, in other operations, rebuild TensorFlow with the appropriate compiler flags.\n",
      "2023-04-27 18:06:16.939350: W tensorflow/compiler/tf2tensorrt/utils/py_utils.cc:38] TF-TRT Warning: Could not find TensorRT\n"
     ]
    },
    {
     "name": "stdout",
     "output_type": "stream",
     "text": [
      "-----------------------------------------\n",
      "keras-unet init: TF version is >= 2.0.0 - using `tf.keras` instead of `Keras`\n",
      "-----------------------------------------\n"
     ]
    }
   ],
   "source": [
    "import os\n",
    "import numpy as np\n",
    "from utils.trainingUtils import TrainingUtils\n",
    "from utils.new_training_utils import NewTrainingUtils"
   ]
  },
  {
   "cell_type": "code",
   "execution_count": 2,
   "id": "0933ca4d",
   "metadata": {},
   "outputs": [],
   "source": [
    "working_dir = \"/raid/mpsych/RISTERLAB/fly_segmentation_experiments/data_dir/test2/pre_processing/npy\"\n",
    "original_path = os.path.join(working_dir, \"original.npy\")\n",
    "npy_path = os.path.join(working_dir, \"mask.npy\")"
   ]
  },
  {
   "cell_type": "code",
   "execution_count": 3,
   "id": "cfeac8f4",
   "metadata": {},
   "outputs": [],
   "source": [
    "images = TrainingUtils.load_file(original_path)\n",
    "labels = TrainingUtils.load_file(npy_path)"
   ]
  },
  {
   "cell_type": "code",
   "execution_count": 4,
   "id": "ee5b78ae",
   "metadata": {},
   "outputs": [],
   "source": [
    "images = TrainingUtils.resize_image(images)\n",
    "labels = TrainingUtils.resize_image(labels)"
   ]
  },
  {
   "cell_type": "code",
   "execution_count": 5,
   "id": "b5ecc648",
   "metadata": {},
   "outputs": [],
   "source": [
    "perm = TrainingUtils.random_permutation(len(images))"
   ]
  },
  {
   "cell_type": "code",
   "execution_count": 6,
   "id": "6672fddb",
   "metadata": {},
   "outputs": [],
   "source": [
    "images = TrainingUtils.randomize_data(images, perm)\n",
    "labels = TrainingUtils.randomize_data(labels, perm)"
   ]
  },
  {
   "cell_type": "code",
   "execution_count": 7,
   "id": "55b33074",
   "metadata": {},
   "outputs": [],
   "source": [
    "images = TrainingUtils.individual_normalize(images)\n",
    "labels = labels.astype(np.float64)"
   ]
  },
  {
   "cell_type": "code",
   "execution_count": 8,
   "id": "7c6e8a97",
   "metadata": {},
   "outputs": [],
   "source": [
    "X_train, X_val, X_test = TrainingUtils.train_val_test_split(images, 0.5, 0.3, 0.2)\n",
    "y_train, y_val, y_test = TrainingUtils.train_val_test_split(labels, 0.5, 0.3, 0.2)"
   ]
  },
  {
   "cell_type": "code",
   "execution_count": 9,
   "id": "83b25a06",
   "metadata": {},
   "outputs": [
    {
     "name": "stderr",
     "output_type": "stream",
     "text": [
      "2023-04-27 18:06:25.690192: E tensorflow/compiler/xla/stream_executor/cuda/cuda_driver.cc:266] failed call to cuInit: CUDA_ERROR_NO_DEVICE: no CUDA-capable device is detected\n",
      "2023-04-27 18:06:25.690233: I tensorflow/compiler/xla/stream_executor/cuda/cuda_diagnostics.cc:168] retrieving CUDA diagnostic information for host: chimera13\n",
      "2023-04-27 18:06:25.690237: I tensorflow/compiler/xla/stream_executor/cuda/cuda_diagnostics.cc:175] hostname: chimera13\n",
      "2023-04-27 18:06:25.690322: I tensorflow/compiler/xla/stream_executor/cuda/cuda_diagnostics.cc:199] libcuda reported version is: 450.172.1\n",
      "2023-04-27 18:06:25.690336: I tensorflow/compiler/xla/stream_executor/cuda/cuda_diagnostics.cc:203] kernel reported version is: 450.172.1\n",
      "2023-04-27 18:06:25.690340: I tensorflow/compiler/xla/stream_executor/cuda/cuda_diagnostics.cc:309] kernel version seems to match DSO: 450.172.1\n"
     ]
    }
   ],
   "source": [
    "model = NewTrainingUtils.initialize_new_model()\n",
    "model = NewTrainingUtils.compile_new_model(model)"
   ]
  },
  {
   "cell_type": "code",
   "execution_count": null,
   "id": "b15f6301",
   "metadata": {},
   "outputs": [],
   "source": []
  }
 ],
 "metadata": {
  "kernelspec": {
   "display_name": "Python 3 (ipykernel)",
   "language": "python",
   "name": "python3"
  },
  "language_info": {
   "codemirror_mode": {
    "name": "ipython",
    "version": 3
   },
   "file_extension": ".py",
   "mimetype": "text/x-python",
   "name": "python",
   "nbconvert_exporter": "python",
   "pygments_lexer": "ipython3",
   "version": "3.10.9"
  }
 },
 "nbformat": 4,
 "nbformat_minor": 5
}
