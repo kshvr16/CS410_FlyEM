{
 "cells": [
  {
   "cell_type": "code",
   "execution_count": 1,
   "id": "ba393cf1",
   "metadata": {},
   "outputs": [
    {
     "name": "stderr",
     "output_type": "stream",
     "text": [
      "2023-04-27 15:53:33.390146: I tensorflow/core/platform/cpu_feature_guard.cc:182] This TensorFlow binary is optimized to use available CPU instructions in performance-critical operations.\n",
      "To enable the following instructions: AVX2 FMA, in other operations, rebuild TensorFlow with the appropriate compiler flags.\n",
      "2023-04-27 15:53:34.170973: W tensorflow/compiler/tf2tensorrt/utils/py_utils.cc:38] TF-TRT Warning: Could not find TensorRT\n"
     ]
    },
    {
     "name": "stdout",
     "output_type": "stream",
     "text": [
      "-----------------------------------------\n",
      "keras-unet init: TF version is >= 2.0.0 - using `tf.keras` instead of `Keras`\n",
      "-----------------------------------------\n"
     ]
    }
   ],
   "source": [
    "import os\n",
    "import numpy as np\n",
    "from utils.trainingUtils import TrainingUtils"
   ]
  },
  {
   "cell_type": "code",
   "execution_count": 2,
   "id": "692b8dbd",
   "metadata": {},
   "outputs": [],
   "source": [
    "working_dir = \"/raid/mpsych/RISTERLAB/fly_segmentation_experiments/data_dir/test2/pre_processing/npy\"\n",
    "original_path = os.path.join(working_dir, \"original.npy\")\n",
    "npy_path = os.path.join(working_dir, \"mask.npy\")"
   ]
  },
  {
   "cell_type": "code",
   "execution_count": 3,
   "id": "b46db743",
   "metadata": {},
   "outputs": [
    {
     "name": "stdout",
     "output_type": "stream",
     "text": [
      "['4-8-pred.npy', 'mask.npy', 'test.npy', 'original.npy']\n"
     ]
    }
   ],
   "source": [
    "print(os.listdir(working_dir))"
   ]
  },
  {
   "cell_type": "code",
   "execution_count": 4,
   "id": "3346acb7",
   "metadata": {},
   "outputs": [],
   "source": [
    "images = TrainingUtils.load_file(original_path)\n",
    "labels = TrainingUtils.load_file(npy_path)"
   ]
  },
  {
   "cell_type": "code",
   "execution_count": 5,
   "id": "afcf8e2f",
   "metadata": {},
   "outputs": [
    {
     "data": {
      "text/plain": [
       "(1812, 512, 512)"
      ]
     },
     "execution_count": 5,
     "metadata": {},
     "output_type": "execute_result"
    }
   ],
   "source": [
    "images.shape"
   ]
  },
  {
   "cell_type": "code",
   "execution_count": 6,
   "id": "7c596945",
   "metadata": {},
   "outputs": [],
   "source": [
    "images = TrainingUtils.resize_image(images)\n",
    "labels = TrainingUtils.resize_image(labels)"
   ]
  },
  {
   "cell_type": "code",
   "execution_count": 7,
   "id": "3fa88b71",
   "metadata": {},
   "outputs": [
    {
     "data": {
      "text/plain": [
       "(1812, 512, 512, 1)"
      ]
     },
     "execution_count": 7,
     "metadata": {},
     "output_type": "execute_result"
    }
   ],
   "source": [
    "images.shape"
   ]
  },
  {
   "cell_type": "code",
   "execution_count": 8,
   "id": "a9b34926",
   "metadata": {},
   "outputs": [],
   "source": [
    "perm = TrainingUtils.random_permutation(len(images))"
   ]
  },
  {
   "cell_type": "code",
   "execution_count": 9,
   "id": "8bbeb95f",
   "metadata": {},
   "outputs": [
    {
     "data": {
      "text/plain": [
       "array([ 802,  799,  607, ..., 1075,  477,  868])"
      ]
     },
     "execution_count": 9,
     "metadata": {},
     "output_type": "execute_result"
    }
   ],
   "source": [
    "perm"
   ]
  },
  {
   "cell_type": "code",
   "execution_count": 10,
   "id": "de33b2b0",
   "metadata": {},
   "outputs": [],
   "source": [
    "images = TrainingUtils.randomize_data(images, perm)\n",
    "labels = TrainingUtils.randomize_data(labels, perm)"
   ]
  },
  {
   "cell_type": "code",
   "execution_count": 11,
   "id": "3c94cd74",
   "metadata": {},
   "outputs": [],
   "source": [
    "images = TrainingUtils.individual_normalize(images)\n",
    "labels = labels.astype(np.float64)"
   ]
  },
  {
   "cell_type": "code",
   "execution_count": 12,
   "id": "04bd8821",
   "metadata": {},
   "outputs": [],
   "source": [
    "X_train, X_val, X_test = TrainingUtils.train_val_test_split(images, 0.5, 0.3, 0.2)\n",
    "y_train, y_val, y_test = TrainingUtils.train_val_test_split(labels, 0.5, 0.3, 0.2)"
   ]
  },
  {
   "cell_type": "code",
   "execution_count": 13,
   "id": "c8d07b0b",
   "metadata": {},
   "outputs": [
    {
     "name": "stderr",
     "output_type": "stream",
     "text": [
      "2023-04-27 15:53:54.578392: E tensorflow/compiler/xla/stream_executor/cuda/cuda_driver.cc:266] failed call to cuInit: CUDA_ERROR_NO_DEVICE: no CUDA-capable device is detected\n",
      "2023-04-27 15:53:54.578436: I tensorflow/compiler/xla/stream_executor/cuda/cuda_diagnostics.cc:168] retrieving CUDA diagnostic information for host: chimera13\n",
      "2023-04-27 15:53:54.578440: I tensorflow/compiler/xla/stream_executor/cuda/cuda_diagnostics.cc:175] hostname: chimera13\n",
      "2023-04-27 15:53:54.578528: I tensorflow/compiler/xla/stream_executor/cuda/cuda_diagnostics.cc:199] libcuda reported version is: 450.172.1\n",
      "2023-04-27 15:53:54.578541: I tensorflow/compiler/xla/stream_executor/cuda/cuda_diagnostics.cc:203] kernel reported version is: 450.172.1\n",
      "2023-04-27 15:53:54.578544: I tensorflow/compiler/xla/stream_executor/cuda/cuda_diagnostics.cc:309] kernel version seems to match DSO: 450.172.1\n"
     ]
    }
   ],
   "source": [
    "model = TrainingUtils.init_model()"
   ]
  },
  {
   "cell_type": "code",
   "execution_count": 14,
   "id": "67659a40",
   "metadata": {},
   "outputs": [],
   "source": [
    "model = TrainingUtils.compile_model(model)"
   ]
  },
  {
   "cell_type": "code",
   "execution_count": 15,
   "id": "6d41c07f",
   "metadata": {},
   "outputs": [],
   "source": [
    "earlystopping = TrainingUtils.get_early_stopping()"
   ]
  },
  {
   "cell_type": "code",
   "execution_count": null,
   "id": "1d02fae2",
   "metadata": {},
   "outputs": [
    {
     "name": "stdout",
     "output_type": "stream",
     "text": [
      "training and prediction for batch size:   60 epochs:   40\n",
      "Epoch 1/40\n"
     ]
    }
   ],
   "source": [
    "history = TrainingUtils.training(model, X_train, y_train, X_val, y_val, batch=60, epochs=40, callbacks = [earlystopping])"
   ]
  },
  {
   "cell_type": "code",
   "execution_count": null,
   "id": "a8996128",
   "metadata": {},
   "outputs": [],
   "source": [
    "TrainingUtils.plot_predict(history, model, X_test, y_test)"
   ]
  }
 ],
 "metadata": {
  "kernelspec": {
   "display_name": "Python 3 (ipykernel)",
   "language": "python",
   "name": "python3"
  },
  "language_info": {
   "codemirror_mode": {
    "name": "ipython",
    "version": 3
   },
   "file_extension": ".py",
   "mimetype": "text/x-python",
   "name": "python",
   "nbconvert_exporter": "python",
   "pygments_lexer": "ipython3",
   "version": "3.10.9"
  }
 },
 "nbformat": 4,
 "nbformat_minor": 5
}
