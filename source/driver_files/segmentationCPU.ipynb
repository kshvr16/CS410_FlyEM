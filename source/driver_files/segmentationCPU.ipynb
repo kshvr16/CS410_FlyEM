{
 "cells": [
  {
   "cell_type": "code",
   "execution_count": null,
   "metadata": {
    "collapsed": true
   },
   "outputs": [],
   "source": [
    "from utils import SegmentationUtils"
   ]
  },
  {
   "cell_type": "code",
   "execution_count": null,
   "outputs": [],
   "source": [
    "# Change original directory and working directory accordingly\n",
    "original_dir = \"/hpcstor6/sratch01/n/n.lanekal001/flyem/data\"\n",
    "working_dir = \"/hpcstor6/scratch01/n/n.lankela001/flyem/testing\"\n",
    "\n",
    "# Experiment number\n",
    "experiment = \"test01\""
   ],
   "metadata": {
    "collapsed": false
   }
  },
  {
   "cell_type": "code",
   "execution_count": null,
   "outputs": [],
   "source": [
    "src_dir = original_dir\n",
    "dest_dir = f\"{working_dir}/{experiment}/\"\n",
    "SegmentationUtils.segment_cpu(src_dir, dest_dir)"
   ],
   "metadata": {
    "collapsed": false
   }
  },
  {
   "cell_type": "code",
   "execution_count": null,
   "outputs": [],
   "source": [],
   "metadata": {
    "collapsed": false
   }
  }
 ],
 "metadata": {
  "kernelspec": {
   "display_name": "Python 3",
   "language": "python",
   "name": "python3"
  },
  "language_info": {
   "codemirror_mode": {
    "name": "ipython",
    "version": 2
   },
   "file_extension": ".py",
   "mimetype": "text/x-python",
   "name": "python",
   "nbconvert_exporter": "python",
   "pygments_lexer": "ipython2",
   "version": "2.7.6"
  }
 },
 "nbformat": 4,
 "nbformat_minor": 0
}
